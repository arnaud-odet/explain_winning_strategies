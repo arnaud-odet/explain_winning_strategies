{
 "cells": [
  {
   "cell_type": "markdown",
   "metadata": {},
   "source": [
    "# <span style ='color:orange'>Imports"
   ]
  },
  {
   "cell_type": "code",
   "execution_count": null,
   "metadata": {},
   "outputs": [],
   "source": [
    "import pandas as pd\n",
    "import numpy as np\n",
    "import seaborn as sns\n",
    "import matplotlib.pyplot as plt\n",
    "from sklearn.metrics import accuracy_score\n",
    "\n",
    "import shap\n",
    "\n",
    "%reload_ext autoreload\n",
    "%autoreload 2\n",
    "\n",
    "from data_boxscore.data import load_dataframes, custom_query_df\n",
    "from data_boxscore.xai import shap_query\n",
    "from data_boxscore.constants import  features_minmax, features_no_scaling, features_perc, features_robust, features_standard\n",
    "from data_boxscore.plots import create_spider_chart"
   ]
  },
  {
   "cell_type": "markdown",
   "metadata": {},
   "source": [
    "# <span style ='color:blue'>Loading data"
   ]
  },
  {
   "cell_type": "code",
   "execution_count": null,
   "metadata": {},
   "outputs": [],
   "source": [
    "filename = 'data.csv'\n",
    "team = None\n",
    "league = None\n",
    "season = None\n",
    "excl_cols = []"
   ]
  },
  {
   "cell_type": "code",
   "execution_count": null,
   "metadata": {},
   "outputs": [],
   "source": [
    "gdf, X_train, y_train, X_val, y_val, X_test, y_test, X_query, y_query = load_dataframes(filename=filename,\n",
    "                                                                    features_standard = features_standard, \n",
    "                                                                    features_minmax = features_minmax, \n",
    "                                                                    features_robust = features_robust, \n",
    "                                                                    features_perc = features_perc,\n",
    "                                                                    features_no_scaling = features_no_scaling,              \n",
    "                                                                    use_ELO = True,\n",
    "                                                                    k_elo = 20,\n",
    "                                                                    excluded_columns=excl_cols,\n",
    "                                                                    team=team,\n",
    "                                                                    season=season,\n",
    "                                                                    league=league)\n",
    "print(gdf.shape, X_train.shape, X_val.shape ,X_test.shape, )\n",
    "gdf['home_win'].mean()"
   ]
  },
  {
   "cell_type": "code",
   "execution_count": null,
   "metadata": {},
   "outputs": [],
   "source": [
    "gdf.head(5)"
   ]
  },
  {
   "cell_type": "code",
   "execution_count": null,
   "metadata": {},
   "outputs": [],
   "source": [
    "X_test = X_test[:10]\n",
    "y_test = y_test[:10]\n",
    "X_test.shape, y_test.shape"
   ]
  },
  {
   "cell_type": "markdown",
   "metadata": {},
   "source": [
    "# <span style ='color:green'>Models"
   ]
  },
  {
   "cell_type": "code",
   "execution_count": null,
   "metadata": {},
   "outputs": [],
   "source": [
    "from sklearn.svm import SVC\n",
    "\n",
    "model = SVC(kernel = 'rbf', probability=True, C = 50, gamma = 0.0005)\n",
    "model.fit(X_train, y_train)\n",
    "y_pred = model.predict(X_test)\n",
    "print(f\"Model accuracy = {accuracy_score(y_pred, y_test)}\")"
   ]
  },
  {
   "cell_type": "markdown",
   "metadata": {},
   "source": [
    "# <span style ='color:lightgreen'>XAI"
   ]
  },
  {
   "cell_type": "markdown",
   "metadata": {},
   "source": [
    "### Local"
   ]
  },
  {
   "cell_type": "code",
   "execution_count": null,
   "metadata": {},
   "outputs": [],
   "source": [
    "# creating SV object with all X_train in the background\n",
    "shap_prob_explainer = shap.Explainer(model.predict_proba, X_train)\n",
    "# Fitting on X_test\n",
    "sv_prob = shap_prob_explainer(X_test)"
   ]
  },
  {
   "cell_type": "code",
   "execution_count": null,
   "metadata": {},
   "outputs": [],
   "source": [
    "ind = 9\n",
    "\n",
    "print(f\"Index max in test set : {X_test.shape[0]}\")\n",
    "shap.plots.waterfall(sv_prob[ind,:,1])"
   ]
  },
  {
   "cell_type": "markdown",
   "metadata": {},
   "source": [
    "### Global"
   ]
  },
  {
   "cell_type": "code",
   "execution_count": null,
   "metadata": {},
   "outputs": [],
   "source": [
    "# creating SV object with all X_train in the background\n",
    "shap_pred_explainer = shap.Explainer(model.predict, X_train)\n",
    "# Fitting on X_test\n",
    "sv_pred = shap_pred_explainer(X_test)"
   ]
  },
  {
   "cell_type": "code",
   "execution_count": null,
   "metadata": {},
   "outputs": [],
   "source": [
    "shap.plots.beeswarm(sv_pred, max_display=13, show=False)"
   ]
  },
  {
   "cell_type": "markdown",
   "metadata": {},
   "source": [
    "### Query"
   ]
  },
  {
   "cell_type": "code",
   "execution_count": null,
   "metadata": {},
   "outputs": [],
   "source": [
    "X_query.shape"
   ]
  },
  {
   "cell_type": "code",
   "execution_count": null,
   "metadata": {},
   "outputs": [],
   "source": [
    "shap_query_df = shap_query(df =gdf,\n",
    "                           X_query = X_query,\n",
    "                           shap_explainer= shap_prob_explainer,\n",
    "                           team=team,\n",
    "                           season = season,\n",
    "                           league = league)\n",
    "shap_query_df.head()"
   ]
  },
  {
   "cell_type": "code",
   "execution_count": null,
   "metadata": {},
   "outputs": [],
   "source": [
    "threshold = 0.0001\n",
    "\n",
    "fig, ax = plt.subplots(1,1,figsize = (10,6))\n",
    "info_cols = ['game_id','home_team', 'away_team'] if 'game_id' in shap_query_df.columns else ['home_team', 'away_team']\n",
    "team_expl_cols = shap_query_df.drop(columns = info_cols).columns\n",
    "id = pd.MultiIndex.from_product([shap_query_df[team_expl_cols].index, shap_query_df[team_expl_cols].columns], names=('gameday', 'feature'))\n",
    "t_df = pd.DataFrame(np.array(shap_query_df[team_expl_cols]).reshape(len(shap_query_df[team_expl_cols])*len(shap_query_df[team_expl_cols].columns),1), index = id).rename(columns={0:'SHAP_value'})\n",
    "t_df.reset_index(inplace= True)\n",
    "feat_mask = (t_df.groupby('feature').mean()['SHAP_value'].abs() > threshold).rename('Threshold_filter')\n",
    "mean_shap = t_df.groupby('feature').mean()['SHAP_value'].rename('Mean_SHAP_value')\n",
    "t_df = t_df.merge(feat_mask, left_on = 'feature', right_index = True)\n",
    "t_df = t_df.merge(mean_shap, left_on = 'feature', right_index = True)\n",
    "t_df.sort_values(by = 'Mean_SHAP_value', ascending = False, inplace=True)\n",
    "meanpointprops = dict(marker='D', markeredgecolor='black',\n",
    "                    markerfacecolor='firebrick')\n",
    "sns.boxplot(data = t_df[t_df['Threshold_filter']], x = 'SHAP_value', y = 'feature', hue = 'Mean_SHAP_value', palette = 'flare', legend = False, ax=ax, showmeans = True, meanprops = meanpointprops)\n",
    "plt.axvline(x=0, color='red', linestyle='dashed', linewidth=2)\n",
    "plt.show()\n",
    "plt.close()"
   ]
  },
  {
   "cell_type": "code",
   "execution_count": null,
   "metadata": {},
   "outputs": [],
   "source": [
    "spider_plot_df = t_df[['feature','SHAP_value']].groupby('feature').mean()\n",
    "spider_plot_df = spider_plot_df.merge(t_df[['feature','SHAP_value']].groupby('feature').std().rename(columns = {'SHAP_value':'std'}), right_index=True, left_index= True)\n",
    "spider_plot_df"
   ]
  },
  {
   "cell_type": "code",
   "execution_count": null,
   "metadata": {},
   "outputs": [],
   "source": [
    "max_val = (spider_plot_df['SHAP_value'].max()*100 //2 +1)/50\n",
    "min_val = (spider_plot_df['SHAP_value'].min()*100 //2)/50\n",
    "graduation_level = int(max_val*50) -int(min_val*50)\n",
    "\n",
    "min_val, max_val, graduation_level\n"
   ]
  },
  {
   "cell_type": "code",
   "execution_count": null,
   "metadata": {},
   "outputs": [],
   "source": [
    "min_val // 1000, max_val//1000, (2* max_val) // 1000"
   ]
  },
  {
   "cell_type": "code",
   "execution_count": null,
   "metadata": {},
   "outputs": [],
   "source": [
    "create_spider_chart(\n",
    "    categories=spider_plot_df.index,\n",
    "    values=spider_plot_df['SHAP_value'],\n",
    "    color = 'green',\n",
    "    std_devs=spider_plot_df['std'],\n",
    "    min_value=min_val,\n",
    "    max_value=max_val,\n",
    "    graduation_levels=graduation_level,\n",
    "    highlight_level=0,\n",
    "    category_colors=['blue' if feat[:4] == 'team' else 'orange' for feat in spider_plot_df.index]\n",
    ");"
   ]
  },
  {
   "cell_type": "code",
   "execution_count": null,
   "metadata": {},
   "outputs": [],
   "source": []
  }
 ],
 "metadata": {
  "kernelspec": {
   "display_name": "phd",
   "language": "python",
   "name": "python3"
  },
  "language_info": {
   "codemirror_mode": {
    "name": "ipython",
    "version": 3
   },
   "file_extension": ".py",
   "mimetype": "text/x-python",
   "name": "python",
   "nbconvert_exporter": "python",
   "pygments_lexer": "ipython3",
   "version": "3.10.6"
  }
 },
 "nbformat": 4,
 "nbformat_minor": 2
}
