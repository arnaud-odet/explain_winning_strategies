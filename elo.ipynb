{
 "cells": [
  {
   "cell_type": "code",
   "execution_count": null,
   "metadata": {},
   "outputs": [],
   "source": [
    "import pandas as pd\n",
    "import numpy as np\n",
    "import matplotlib.pyplot as plt\n",
    "import seaborn as sns\n",
    "from sklearn.preprocessing import StandardScaler\n",
    "\n",
    "from data_boxscore.data import load_dataframes\n",
    "from data_boxscore.elo import compute_ELO, compute_kl_divergence\n",
    "from data_boxscore.constants import features_minmax, features_no_scaling, features_perc, features_robust, features_standard\n",
    "%reload_ext autoreload\n",
    "%autoreload 2\n"
   ]
  },
  {
   "cell_type": "code",
   "execution_count": null,
   "metadata": {},
   "outputs": [],
   "source": [
    "gdf, X_train, y_train, X_val, y_val, X_test, y_test, _, _ = load_dataframes(filename='bball.csv',\n",
    "                                                                    features_standard = features_standard, \n",
    "                                                                    features_minmax = features_minmax, \n",
    "                                                                    features_robust = features_robust, \n",
    "                                                                    features_perc = features_perc,\n",
    "                                                                    features_no_scaling = features_no_scaling,              \n",
    "                                                                    use_ELO = True,\n",
    "                                                                    k_elo = 20)\n",
    "print(gdf.shape, X_train.shape, X_val.shape ,X_test.shape, )\n",
    "gdf['home_win'].mean()"
   ]
  },
  {
   "cell_type": "code",
   "execution_count": null,
   "metadata": {},
   "outputs": [],
   "source": [
    "gdf.head()"
   ]
  },
  {
   "cell_type": "code",
   "execution_count": null,
   "metadata": {},
   "outputs": [],
   "source": [
    "gdf, elo_end = compute_ELO(gdf, k_elo=20, return_elo_end=True)\n",
    "gdf"
   ]
  },
  {
   "cell_type": "code",
   "execution_count": null,
   "metadata": {},
   "outputs": [],
   "source": [
    "fig, axs = plt.subplots(2,3, figsize = (12,6))\n",
    "for i,k_elo in enumerate([5,10,20,40,75,100]):\n",
    "    df = compute_ELO(gdf, k_elo)\n",
    "    train_data = df[df['split'] == 1]['ELO_diff_before'].values.reshape(-1,1)\n",
    "    data = df[df['split'] != 0]['ELO_diff_before'].values.reshape(-1,1)\n",
    "    scaler = StandardScaler()\n",
    "    scaler.fit(train_data)\n",
    "    data = scaler.transform(data)\n",
    "    sns.histplot(data, kde = True,ax = axs[i//3, i%3], legend=False)\n",
    "    axs[i//3, i%3].set_title(f\"k_ELO = {k_elo}\")    \n",
    "    \n",
    "    "
   ]
  },
  {
   "cell_type": "code",
   "execution_count": null,
   "metadata": {},
   "outputs": [],
   "source": [
    "elos = {}\n",
    "for k_elo in range(5,101,5):\n",
    "    df = compute_ELO(gdf, k_elo)\n",
    "    train_data = df[df['split'] == 1]['ELO_diff_before'].values.reshape(-1,1)\n",
    "    data = df[df['split'] != 0]['ELO_diff_before'].values.reshape(-1,1)\n",
    "    scaler = StandardScaler()\n",
    "    scaler.fit(train_data)\n",
    "    data = scaler.transform(data)\n",
    "    elos[k_elo] = data"
   ]
  },
  {
   "cell_type": "code",
   "execution_count": null,
   "metadata": {},
   "outputs": [],
   "source": [
    "kls = []\n",
    "for k,v in elos.items():\n",
    "    tmp = {}\n",
    "    for k2,v2 in elos.items():\n",
    "        tmp[k2] = compute_kl_divergence(v,v2, bins=50)\n",
    "    kls.append(tmp)\n",
    "kldf = pd.DataFrame(kls, index = elos.keys())"
   ]
  },
  {
   "cell_type": "code",
   "execution_count": null,
   "metadata": {},
   "outputs": [],
   "source": [
    "print(f\"{kldf.max().max():.3f}\")\n",
    "kldf.round(2)"
   ]
  }
 ],
 "metadata": {
  "kernelspec": {
   "display_name": "phd",
   "language": "python",
   "name": "python3"
  },
  "language_info": {
   "codemirror_mode": {
    "name": "ipython",
    "version": 3
   },
   "file_extension": ".py",
   "mimetype": "text/x-python",
   "name": "python",
   "nbconvert_exporter": "python",
   "pygments_lexer": "ipython3",
   "version": "3.10.6"
  }
 },
 "nbformat": 4,
 "nbformat_minor": 2
}
