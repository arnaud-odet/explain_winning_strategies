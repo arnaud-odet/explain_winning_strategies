{
 "cells": [
  {
   "cell_type": "markdown",
   "metadata": {},
   "source": [
    "# <span style ='color:orange'>Imports "
   ]
  },
  {
   "cell_type": "code",
   "execution_count": null,
   "metadata": {},
   "outputs": [],
   "source": [
    "import pandas as pd\n",
    "import numpy as np\n",
    "\n",
    "from data_boxscore.data import load_dataframes\n",
    "from data_boxscore.models import compare_models_w_hpo\n",
    "from data_boxscore.constants import features_minmax, features_no_scaling, features_perc, features_robust, features_standard\n",
    "\n",
    "%reload_ext autoreload\n",
    "%autoreload 2"
   ]
  },
  {
   "cell_type": "markdown",
   "metadata": {},
   "source": [
    "# <span style ='color:blue'> Data Loading"
   ]
  },
  {
   "cell_type": "code",
   "execution_count": null,
   "metadata": {},
   "outputs": [],
   "source": [
    "filename = 'data.csv'\n",
    "excl_cols = []"
   ]
  },
  {
   "cell_type": "code",
   "execution_count": null,
   "metadata": {},
   "outputs": [],
   "source": [
    "gdf, X_train, y_train, X_val, y_val, X_test, y_test, X_query, y_query = load_dataframes(filename=filename,\n",
    "                                                                    features_standard = features_standard, \n",
    "                                                                    features_minmax = features_minmax, \n",
    "                                                                    features_robust = features_robust, \n",
    "                                                                    features_perc = features_perc,\n",
    "                                                                    features_no_scaling = features_no_scaling,              \n",
    "                                                                    use_ELO = True,\n",
    "                                                                    k_elo = 20,\n",
    "                                                                    excluded_columns=excl_cols)\n",
    "print(gdf.shape, X_train.shape, X_val.shape ,X_test.shape, )\n",
    "gdf['home_win'].mean()"
   ]
  },
  {
   "cell_type": "code",
   "execution_count": null,
   "metadata": {},
   "outputs": [],
   "source": [
    "gdf.head()"
   ]
  },
  {
   "cell_type": "markdown",
   "metadata": {},
   "source": [
    "# <span style ='color:cyan'>Fitting models"
   ]
  },
  {
   "cell_type": "code",
   "execution_count": null,
   "metadata": {},
   "outputs": [],
   "source": [
    "c_df = compare_models_w_hpo(X_train, y_train, X_val, y_val, X_test, y_test, cv = 0, n_iter_ml = 8, n_iter_ann= 2)\n",
    "c_df.sort_values(['Accuracy', 'F1-score'], ascending = [False, False], inplace=True)"
   ]
  },
  {
   "cell_type": "code",
   "execution_count": null,
   "metadata": {},
   "outputs": [],
   "source": [
    "c_df.round(3)"
   ]
  }
 ],
 "metadata": {
  "kernelspec": {
   "display_name": "phd",
   "language": "python",
   "name": "python3"
  },
  "language_info": {
   "codemirror_mode": {
    "name": "ipython",
    "version": 3
   },
   "file_extension": ".py",
   "mimetype": "text/x-python",
   "name": "python",
   "nbconvert_exporter": "python",
   "pygments_lexer": "ipython3",
   "version": "3.10.6"
  }
 },
 "nbformat": 4,
 "nbformat_minor": 2
}
